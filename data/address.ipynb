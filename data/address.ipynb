{
 "cells": [
  {
   "cell_type": "markdown",
   "metadata": {},
   "source": [
    "# Direcciones"
   ]
  },
  {
   "cell_type": "code",
   "execution_count": 1,
   "metadata": {},
   "outputs": [],
   "source": [
    "import polars as pl"
   ]
  },
  {
   "cell_type": "code",
   "execution_count": 2,
   "metadata": {},
   "outputs": [],
   "source": [
    "PATH: str = \"./processed/mis_direcciones.xlsx\""
   ]
  },
  {
   "cell_type": "markdown",
   "metadata": {},
   "source": [
    "Read"
   ]
  },
  {
   "cell_type": "code",
   "execution_count": 3,
   "metadata": {},
   "outputs": [],
   "source": [
    "df_adrress = pl.read_excel(PATH, engine=\"openpyxl\")"
   ]
  },
  {
   "cell_type": "code",
   "execution_count": 4,
   "metadata": {},
   "outputs": [
    {
     "data": {
      "text/html": [
       "<div><style>\n",
       ".dataframe > thead > tr,\n",
       ".dataframe > tbody > tr {\n",
       "  text-align: right;\n",
       "  white-space: pre-wrap;\n",
       "}\n",
       "</style>\n",
       "<small>shape: (5, 3)</small><table border=\"1\" class=\"dataframe\"><thead><tr><th>Provincia</th><th>Canton</th><th>Parroquia</th></tr><tr><td>str</td><td>str</td><td>str</td></tr></thead><tbody><tr><td>&quot;AZUAY&quot;</td><td>&quot;CUENCA&quot;</td><td>&quot;CUENCA&quot;</td></tr><tr><td>&quot;AZUAY&quot;</td><td>&quot;CUENCA&quot;</td><td>&quot;BANOS&quot;</td></tr><tr><td>&quot;AZUAY&quot;</td><td>&quot;CUENCA&quot;</td><td>&quot;CUMBE&quot;</td></tr><tr><td>&quot;AZUAY&quot;</td><td>&quot;CUENCA&quot;</td><td>&quot;CHAUCHA&quot;</td></tr><tr><td>&quot;AZUAY&quot;</td><td>&quot;CUENCA&quot;</td><td>&quot;CHECA&quot;</td></tr></tbody></table></div>"
      ],
      "text/plain": [
       "shape: (5, 3)\n",
       "┌───────────┬────────┬───────────┐\n",
       "│ Provincia ┆ Canton ┆ Parroquia │\n",
       "│ ---       ┆ ---    ┆ ---       │\n",
       "│ str       ┆ str    ┆ str       │\n",
       "╞═══════════╪════════╪═══════════╡\n",
       "│ AZUAY     ┆ CUENCA ┆ CUENCA    │\n",
       "│ AZUAY     ┆ CUENCA ┆ BANOS     │\n",
       "│ AZUAY     ┆ CUENCA ┆ CUMBE     │\n",
       "│ AZUAY     ┆ CUENCA ┆ CHAUCHA   │\n",
       "│ AZUAY     ┆ CUENCA ┆ CHECA     │\n",
       "└───────────┴────────┴───────────┘"
      ]
     },
     "execution_count": 4,
     "metadata": {},
     "output_type": "execute_result"
    }
   ],
   "source": [
    "df_adrress.head()"
   ]
  }
 ],
 "metadata": {
  "kernelspec": {
   "display_name": "venv",
   "language": "python",
   "name": "python3"
  },
  "language_info": {
   "codemirror_mode": {
    "name": "ipython",
    "version": 3
   },
   "file_extension": ".py",
   "mimetype": "text/x-python",
   "name": "python",
   "nbconvert_exporter": "python",
   "pygments_lexer": "ipython3",
   "version": "3.12.4"
  }
 },
 "nbformat": 4,
 "nbformat_minor": 2
}
